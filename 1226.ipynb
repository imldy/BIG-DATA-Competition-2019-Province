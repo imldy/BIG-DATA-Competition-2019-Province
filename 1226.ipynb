{
 "cells": [
  {
   "cell_type": "code",
   "execution_count": 1,
   "metadata": {},
   "outputs": [],
   "source": [
    "from urllib.request import urlopen   \n",
    "\n",
    "url =\"http://top.iqiyi.com/rebobang.html\""
   ]
  },
  {
   "cell_type": "code",
   "execution_count": 1,
   "metadata": {},
   "outputs": [],
   "source": [
    "from urllib.request import urlopen,Request"
   ]
  },
  {
   "cell_type": "code",
   "execution_count": 2,
   "metadata": {},
   "outputs": [
    {
     "name": "stdout",
     "output_type": "stream",
     "text": [
      "<urllib.request.Request object at 0x000001A785CA4748>\n"
     ]
    }
   ],
   "source": [
    "url =\"http://top.iqiyi.com/rebobang.html\"\n",
    "\n",
    "ua=\"Mozilla/5.0 (Windows NT 10.0; WOW64) AppleWebKit/537.36 (KHTML, like Gecko) Chrome/50.0.2661.87 Safari/537.36 OPR/37.0.2178.31\"\n",
    "\n",
    "request = Request(url)\n",
    "request.add_header(\"user_agent\",ua)\n",
    "\n",
    "print(request)"
   ]
  },
  {
   "cell_type": "code",
   "execution_count": 3,
   "metadata": {},
   "outputs": [
    {
     "name": "stdout",
     "output_type": "stream",
     "text": [
      "1 <class 'http.client.HTTPResponse'>\n",
      "2 200\n",
      "3 http://top.iqiyi.com/rebobang.html\n",
      "4 Server: QWS\n",
      "Date: Thu, 26 Dec 2019 12:12:36 GMT\n",
      "Content-Type: text/html; charset=utf-8\n",
      "Content-Length: 161958\n",
      "Connection: close\n",
      "Vary: Accept-Encoding\n",
      "Vary: Accept-Encoding\n",
      "Nginx-Cache: MISS\n",
      "X-Kong-Upstream-Latency: 772\n",
      "X-Kong-Proxy-Latency: 0\n",
      "Via: iQIYI-APIGateway/0.10.0-15\n",
      "X-Cache: EXPIRED from 113.207.90.52\n",
      "X-Cache: EXPIRED from 221.6.92.154\n",
      "Accept-Ranges: bytes\n",
      "\n",
      "\n"
     ]
    }
   ],
   "source": [
    "response = urlopen(url,timeout=5)\n",
    "with response:\n",
    "\tprint(1,type(response))\n",
    "\tprint(2,response.status)\n",
    "\tprint(3,response.geturl())\n",
    "\tprint(4,response.info())"
   ]
  },
  {
   "cell_type": "code",
   "execution_count": 4,
   "metadata": {},
   "outputs": [
    {
     "name": "stdout",
     "output_type": "stream",
     "text": [
      "http://top.iqiyi.com/rebobang.html\n",
      "ok\n"
     ]
    }
   ],
   "source": [
    "from urllib.request import urlopen,Request\n",
    "ua=\"Mozilla/5.0 (Windows NT 10.0; WOW64) AppleWebKit/537.36 (KHTML, like Gecko) Chrome/50.0.2661.87 Safari/537.36 OPR/37.0.2178.31\"\n",
    "req = Request(url,headers={'User-agent':ua})\n",
    "\n",
    "with urlopen(req)  as res:\n",
    "\twith open('d:/test1.html','wb+') as f:\n",
    "\t\tf.write(res.read())\n",
    "\t\tf.flush()\n",
    "print(url)\n",
    "print(\"ok\")"
   ]
  },
  {
   "cell_type": "code",
   "execution_count": 12,
   "metadata": {},
   "outputs": [
    {
     "name": "stdout",
     "output_type": "stream",
     "text": [
      "26\n",
      "<div class=\"qy-top-row odd\"><div class=\"qy-top-col col-p40\"><div class=\"item-box-1\"><div class=\"qy-top-list-item\"><div class=\"mod-left\"><a class=\"mod-img-link\" href=\"//www.iqiyi.com/v_19ruzj8gv0.html\" j-read-play-record='{\n",
      "                  \"albumId\": 225041201, \n",
      "                  \"enable\": true}' target=\"_blank\"><img class=\"mod-img\" rseat=\"701031_zongbang\" src=\"//pic1.iqiyipic.com/image/20191216/cc/ed/a_100142164_m_601_m11_220_124.jpg\"/> <div class=\"icon-tl\"><i class=\"qy-top-sprite rank-nub rank-nub-1\">1</i></div> <div class=\"icon-br\"><span class=\"qy-mod-label\">更新至39集</span></div></a></div> <div class=\"mod-right\"><h3 class=\"main-title\"><a class=\"title-link\" href=\"//www.iqiyi.com/v_19ruzj8gv0.html\" j-read-play-record='{\n",
      "                    \"albumId\": 225041201, \n",
      "                    \"enable\": true}' rseat=\"701031_zongbang\" target=\"_blank\">庆余年</a></h3> <p class=\"sub-des\">张若昀江湖绝处逢生</p> <div class=\"sub-title\"><i class=\"qy-svgicon qy-svgicon-hot\"></i> <span class=\"count\">8761</span></div></div></div></div></div> <div class=\"qy-top-col col-p20\"><div class=\"item-box-2\"><div class=\"qy-top-list-des\"><a class=\"des-name\" href=\"//so.iqiyi.com/so/q_内地?source=hot\" target=\"_blank\">内地\n",
      "            <i class=\"des-split\">/</i></a><a class=\"des-name\" href=\"//so.iqiyi.com/so/q_剧情?source=hot\" target=\"_blank\">剧情\n",
      "            <i class=\"des-split\">/</i></a><a class=\"des-name\" href=\"//so.iqiyi.com/so/q_普通话?source=hot\" target=\"_blank\">普通话\n",
      "            <!-- --></a></div></div></div> <div class=\"qy-top-col col-p25\"><div class=\"item-box-3\"><div class=\"qy-top-list-des\"><a class=\"des-name\" href=\"//so.iqiyi.com/so/q_张若昀?source=hot\" target=\"_blank\">张若昀\n",
      "            <i class=\"des-split\">/</i></a><a class=\"des-name\" href=\"//so.iqiyi.com/so/q_陈道明?source=hot\" target=\"_blank\">陈道明\n",
      "            <i class=\"des-split\">/</i></a><a class=\"des-name\" href=\"//so.iqiyi.com/so/q_吴刚?source=hot\" target=\"_blank\">吴刚\n",
      "            <i class=\"des-split\">/</i></a><a class=\"des-name\" href=\"//so.iqiyi.com/so/q_郭麒麟?source=hot\" target=\"_blank\">郭麒麟\n",
      "            <!-- --></a></div></div></div> <div class=\"qy-top-col col-p15\"><div class=\"item-box-4\"><div j-rounded-collect-item='{\"subType\": 1, \"subKey\": 225041201 }'><a class=\"qy-top-btn-collect\" href=\"javascript:void(0)\" rseat=\"701031_zongbang_sc\"><span class=\"J-btn-wrap collect\"><i class=\"J-btn-icon qy-svgicon qy-svgicon-collect\"></i> <span class=\"J-btn-text txt\">收藏</span></span></a> <div class=\"qy-collected-tip J-collect-tip\" style=\"display:none;\"><div class=\"collected-arrow-box\"><span class=\"collected-arrow\"></span></div> <div class=\"collected-tip\"><span class=\"txt\">收藏成功，可进入<a class=\"link\" href=\"//www.iqiyi.com/u/fav\" target=\"_blank\">我的收藏&gt;</a>查看所有收藏列表</span> <span><i class=\"J-close-collect-tip-btn qy-svgicon qy-svgicon-close\"></i></span></div></div></div></div></div></div>\n"
     ]
    },
    {
     "name": "stderr",
     "output_type": "stream",
     "text": [
      "C:\\Users\\abu\\Anaconda3\\lib\\site-packages\\bs4\\__init__.py:181: UserWarning: No parser was explicitly specified, so I'm using the best available HTML parser for this system (\"lxml\"). This usually isn't a problem, but if you run this code on another system, or in a different virtual environment, it may use a different parser and behave differently.\n",
      "\n",
      "The code that caused this warning is on line 193 of the file C:\\Users\\abu\\Anaconda3\\lib\\runpy.py. To get rid of this warning, change code that looks like this:\n",
      "\n",
      " BeautifulSoup(YOUR_MARKUP})\n",
      "\n",
      "to this:\n",
      "\n",
      " BeautifulSoup(YOUR_MARKUP, \"lxml\")\n",
      "\n",
      "  markup_type=markup_type))\n"
     ]
    }
   ],
   "source": [
    "import bs4\n",
    "f = open('d:/test1.html','r',encoding='utf-8')\n",
    "\n",
    "content=f.read()\n",
    "test1=bs4.BeautifulSoup(content)\n",
    "\n",
    "elems=test1.select(\".qy-top-row\")\n",
    "print(len(elems))\n",
    "print(elems[0])"
   ]
  },
  {
   "cell_type": "code",
   "execution_count": 46,
   "metadata": {},
   "outputs": [
    {
     "name": "stdout",
     "output_type": "stream",
     "text": [
      "26\n"
     ]
    },
    {
     "ename": "IndexError",
     "evalue": "list index out of range",
     "output_type": "error",
     "traceback": [
      "\u001b[1;31m---------------------------------------------------------------------------\u001b[0m",
      "\u001b[1;31mIndexError\u001b[0m                                Traceback (most recent call last)",
      "\u001b[1;32m<ipython-input-46-8318c2321862>\u001b[0m in \u001b[0;36m<module>\u001b[1;34m()\u001b[0m\n\u001b[0;32m      6\u001b[0m     \u001b[1;31m#print(i)\u001b[0m\u001b[1;33m\u001b[0m\u001b[1;33m\u001b[0m\u001b[0m\n\u001b[0;32m      7\u001b[0m     \u001b[1;31m#print(i.select(\".qy-top-list-des\")[0])\u001b[0m\u001b[1;33m\u001b[0m\u001b[1;33m\u001b[0m\u001b[0m\n\u001b[1;32m----> 8\u001b[1;33m     \u001b[0mdata2\u001b[0m\u001b[1;33m[\u001b[0m\u001b[1;34m\"名称\"\u001b[0m\u001b[1;33m]\u001b[0m\u001b[1;33m.\u001b[0m\u001b[0mappend\u001b[0m\u001b[1;33m(\u001b[0m\u001b[0mi\u001b[0m\u001b[1;33m.\u001b[0m\u001b[0mselect\u001b[0m\u001b[1;33m(\u001b[0m\u001b[1;34m\".main-title\"\u001b[0m\u001b[1;33m)\u001b[0m\u001b[1;33m[\u001b[0m\u001b[1;36m0\u001b[0m\u001b[1;33m]\u001b[0m\u001b[1;33m.\u001b[0m\u001b[0mgetText\u001b[0m\u001b[1;33m(\u001b[0m\u001b[1;33m)\u001b[0m\u001b[1;33m.\u001b[0m\u001b[0mstrip\u001b[0m\u001b[1;33m(\u001b[0m\u001b[1;33m)\u001b[0m\u001b[1;33m)\u001b[0m\u001b[1;33m\u001b[0m\u001b[0m\n\u001b[0m\u001b[0;32m      9\u001b[0m \u001b[1;33m\u001b[0m\u001b[0m\n\u001b[0;32m     10\u001b[0m     \u001b[0mdata2\u001b[0m\u001b[1;33m[\u001b[0m\u001b[1;34m\"类型\"\u001b[0m\u001b[1;33m]\u001b[0m\u001b[1;33m.\u001b[0m\u001b[0mappend\u001b[0m\u001b[1;33m(\u001b[0m\u001b[1;33m(\u001b[0m\u001b[0mi\u001b[0m\u001b[1;33m.\u001b[0m\u001b[0mselect\u001b[0m\u001b[1;33m(\u001b[0m\u001b[1;34m\"div\"\u001b[0m\u001b[1;33m)\u001b[0m\u001b[1;33m[\u001b[0m\u001b[1;36m0\u001b[0m\u001b[1;33m]\u001b[0m\u001b[1;33m)\u001b[0m\u001b[1;33m.\u001b[0m\u001b[0mgetText\u001b[0m\u001b[1;33m(\u001b[0m\u001b[1;33m)\u001b[0m\u001b[1;33m.\u001b[0m\u001b[0mstrip\u001b[0m\u001b[1;33m(\u001b[0m\u001b[1;33m)\u001b[0m\u001b[1;33m)\u001b[0m\u001b[1;33m\u001b[0m\u001b[0m\n",
      "\u001b[1;31mIndexError\u001b[0m: list index out of range"
     ]
    }
   ],
   "source": [
    "from pandas import DataFrame\n",
    "data2={\"名称\":[],\"类型\":[],\"热度\":[],\"主演\":[]}\n",
    "print(len(elems))\n",
    "#print(elems[0])\n",
    "for i in elems:\n",
    "    #print(i)\n",
    "    #print(i.select(\".qy-top-list-des\")[0])\n",
    "    data2[\"名称\"].append(i.select(\".main-title\")[0].getText().strip())\n",
    "\n",
    "    data2[\"类型\"].append((i.select(\".qy-top-list-des\")[0]).getText().strip())\n",
    "    \n",
    "    data2[\"热度\"].append(i.select(\".sub-title\")[0].getText().strip().replace('\\n', ''))\n",
    "    \n",
    "\t#data2[\"主演\"].append(i.select(\".item-box-3\")[0].getText().strip())    \n",
    "    \n",
    "print(data2)\n",
    "t2=DataFrame(data2)\n",
    "t2.head(10)"
   ]
  },
  {
   "cell_type": "code",
   "execution_count": null,
   "metadata": {},
   "outputs": [],
   "source": []
  }
 ],
 "metadata": {
  "kernelspec": {
   "display_name": "Python 3",
   "language": "python",
   "name": "python3"
  },
  "language_info": {
   "codemirror_mode": {
    "name": "ipython",
    "version": 3
   },
   "file_extension": ".py",
   "mimetype": "text/x-python",
   "name": "python",
   "nbconvert_exporter": "python",
   "pygments_lexer": "ipython3",
   "version": "3.6.5"
  }
 },
 "nbformat": 4,
 "nbformat_minor": 2
}
